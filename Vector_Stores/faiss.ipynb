{
 "cells": [
  {
   "cell_type": "code",
   "execution_count": 4,
   "id": "ac7844bc",
   "metadata": {},
   "outputs": [],
   "source": [
    "from langchain_ollama import OllamaEmbeddings\n",
    "from langchain_community.vectorstores import FAISS\n",
    "from langchain.schema import Document\n",
    "from langchain_community.docstore.in_memory import InMemoryDocstore\n",
    "import faiss"
   ]
  },
  {
   "cell_type": "code",
   "execution_count": 15,
   "id": "10d915b5",
   "metadata": {},
   "outputs": [],
   "source": [
    "doc1 = Document(\n",
    "    page_content =\"Tamim Iqbal is a Bangladeshi cricketer who plays as a left-handed opening batsman. he is a batter. He is the captain of the Bangladesh national team in Test and T20I formats.\",\n",
    "    metadata={\"team\": \"Bangladesh\", \"format\": \"Test\"}\n",
    ")\n",
    "\n",
    "doc2 = Document(\n",
    "    page_content =\"Shakib Al Hasan is a Bangladeshi cricketer, widely regarded as one of the best all-rounders in the world. he is a bowler also a batter. He has been a key player for Bangladesh in all formats of the game.\",\n",
    "    metadata={\"team\": \"Bangladesh\", \"format\": \"ODI\"}\n",
    ")\n",
    "\n",
    "doc3 = Document(\n",
    "    page_content =\"Virat Kohli is an Indian cricketer and former captain of the Indian national team. He is known for his aggressive batting style and has numerous records in international cricket.\",\n",
    "    metadata={\"team\": \"India\", \"format\": \"T20I\"}\n",
    ")\n",
    "\n",
    "doc4 = Document(\n",
    "    page_content =\"Rohit Sharma is an Indian cricketer who plays as a right-handed opening batsman. He is the captain of the Indian national team in ODI and T20I formats.\",\n",
    "    metadata={\"team\": \"India\", \"format\": \"ODI\"}\n",
    ")"
   ]
  },
  {
   "cell_type": "code",
   "execution_count": 5,
   "id": "aada030d",
   "metadata": {},
   "outputs": [],
   "source": [
    "embedding= OllamaEmbeddings(model=\"llama3.2\")\n",
    "index = faiss.IndexFlatL2(len(embedding.embed_query(\"Hello World!\")))\n",
    "\n",
    "vector_store = FAISS(\n",
    "    embedding_function= embedding,\n",
    "    index=index,\n",
    "    docstore=InMemoryDocstore(),\n",
    "    index_to_docstore_id={}\n",
    ")\n",
    "\n"
   ]
  },
  {
   "cell_type": "code",
   "execution_count": 16,
   "id": "8fb40676",
   "metadata": {},
   "outputs": [
    {
     "data": {
      "text/plain": [
       "['6a36c5e2-0de7-42f6-97b9-fafa1e59f66a',\n",
       " 'e82dceaf-339e-421f-9779-4eb87f4133bf',\n",
       " 'be5c4863-5eba-4e0c-8f36-b1b83d47f198',\n",
       " '6183bc2b-4b58-4e1b-86b9-fc93f7b420e1']"
      ]
     },
     "execution_count": 16,
     "metadata": {},
     "output_type": "execute_result"
    }
   ],
   "source": [
    "from uuid import uuid4\n",
    "docs = [doc1, doc2, doc3, doc4]\n",
    "uuids = [str(uuid4()) for _ in range(len(docs))] # Generate unique IDs for each document\n",
    "\n",
    "vector_store.add_documents(documents=docs, ids=uuids)"
   ]
  },
  {
   "cell_type": "code",
   "execution_count": 18,
   "id": "14b17700",
   "metadata": {},
   "outputs": [
    {
     "data": {
      "text/plain": [
       "[Document(id='6a36c5e2-0de7-42f6-97b9-fafa1e59f66a', metadata={'team': 'Bangladesh', 'format': 'Test'}, page_content='Tamim Iqbal is a Bangladeshi cricketer who plays as a left-handed opening batsman. he is a batter. He is the captain of the Bangladesh national team in Test and T20I formats.'),\n",
       " Document(id='e82dceaf-339e-421f-9779-4eb87f4133bf', metadata={'team': 'Bangladesh', 'format': 'ODI'}, page_content='Shakib Al Hasan is a Bangladeshi cricketer, widely regarded as one of the best all-rounders in the world. he is a bowler also a batter. He has been a key player for Bangladesh in all formats of the game.')]"
      ]
     },
     "execution_count": 18,
     "metadata": {},
     "output_type": "execute_result"
    }
   ],
   "source": [
    "vector_store.similarity_search(\n",
    "    query=\"who is the bowler here ?\" ,\n",
    "    k=2,\n",
    ")"
   ]
  },
  {
   "cell_type": "code",
   "execution_count": 23,
   "id": "d749818f",
   "metadata": {},
   "outputs": [
    {
     "name": "stdout",
     "output_type": "stream",
     "text": [
      "Document: Tamim Iqbal is a Bangladeshi cricketer who plays as a left-handed opening batsman. he is a batter. He is the captain of the Bangladesh national team in Test and T20I formats., \n",
      "Score: 1.0575346946716309\n",
      "Document: Shakib Al Hasan is a Bangladeshi cricketer, widely regarded as one of the best all-rounders in the world. he is a bowler also a batter. He has been a key player for Bangladesh in all formats of the game., \n",
      "Score: 1.0988166332244873\n"
     ]
    }
   ],
   "source": [
    "result= vector_store.similarity_search_with_score(\n",
    "    query=\"who is the batter here ?\",\n",
    "    k=2,\n",
    ")\n",
    "for doc, score in result:\n",
    "    print(f\"Document: {doc.page_content}, \\nScore: {score}\")"
   ]
  },
  {
   "cell_type": "code",
   "execution_count": null,
   "id": "990636b4",
   "metadata": {},
   "outputs": [],
   "source": [
    "vector_store.save_local(\"faiss_index\")\n",
    "\n",
    "new_vector_store = FAISS.load_local(\n",
    "    \"faiss_index\", embedding, allow_dangerous_deserialization=True\n",
    ")"
   ]
  },
  {
   "cell_type": "code",
   "execution_count": 33,
   "id": "ba565531",
   "metadata": {},
   "outputs": [
    {
     "name": "stdout",
     "output_type": "stream",
     "text": [
      "Tamim Iqbal is a Bangladeshi cricketer who plays as a left-handed opening batsman. He is the captain of the Bangladesh national team in Test and T20I formats.\n",
      "---------------\n",
      "Shakib Al Hasan is a Bangladeshi cricketer, widely regarded as one of the best all-rounders in the world. He has been a key player for Bangladesh in all formats of the game.\n",
      "---------------\n",
      "Virat Kohli is an Indian cricketer and former captain of the Indian national team. He is known for his aggressive batting style and has numerous records in international cricket.\n",
      "---------------\n",
      "Rohit Sharma is an Indian cricketer who plays as a right-handed opening batsman. He is the captain of the Indian national team in ODI and T20I formats.\n",
      "---------------\n",
      "Tamim Iqbal is a Bangladeshi cricketer who plays as a left-handed opening batsman. he is a batter. He is the captain of the Bangladesh national team in Test and T20I formats.\n",
      "---------------\n",
      "Shakib Al Hasan is a Bangladeshi cricketer, widely regarded as one of the best all-rounders in the world. he is a bowler also a batter. He has been a key player for Bangladesh in all formats of the game.\n",
      "---------------\n",
      "Virat Kohli is an Indian cricketer and former captain of the Indian national team. He is known for his aggressive batting style and has numerous records in international cricket.\n",
      "---------------\n",
      "Rohit Sharma is an Indian cricketer who plays as a right-handed opening batsman. He is the captain of the Indian national team in ODI and T20I formats.\n",
      "---------------\n",
      "Total documents in vector store: 8\n"
     ]
    }
   ],
   "source": [
    "for id, doc in vector_store.docstore._dict.items():\n",
    "    print(doc.page_content)\n",
    "    print(\"---------------\")\n",
    "print(\"Total documents in vector store:\", len(vector_store.docstore._dict))"
   ]
  },
  {
   "cell_type": "code",
   "execution_count": 36,
   "id": "65e19bc7",
   "metadata": {},
   "outputs": [
    {
     "data": {
      "text/plain": [
       "['4a61323e-a9fd-4753-a7ef-792b5dad1c53']"
      ]
     },
     "execution_count": 36,
     "metadata": {},
     "output_type": "execute_result"
    }
   ],
   "source": [
    "doc5 = Document(\n",
    "    page_content=\"This document is ment to be deleted.\",\n",
    "    metadata={\"format\": \"Test\"}\n",
    ")\n",
    "\n",
    "vector_store.add_documents(documents=[doc5], ids=[str(uuid4())])"
   ]
  },
  {
   "cell_type": "code",
   "execution_count": 37,
   "id": "e66dfdb8",
   "metadata": {},
   "outputs": [
    {
     "data": {
      "text/plain": [
       "True"
      ]
     },
     "execution_count": 37,
     "metadata": {},
     "output_type": "execute_result"
    }
   ],
   "source": [
    "vector_store.delete(ids=['4a61323e-a9fd-4753-a7ef-792b5dad1c53'])"
   ]
  },
  {
   "cell_type": "code",
   "execution_count": 39,
   "id": "3a8f9f9d",
   "metadata": {},
   "outputs": [
    {
     "name": "stdout",
     "output_type": "stream",
     "text": [
      "id :6290dc5f-2579-4500-8dbd-b52f2e448be4\n",
      "page content: Tamim Iqbal is a Bangladeshi cricketer who plays as a left-handed opening batsman. He is the captain of the Bangladesh national team in Test and T20I formats.\n",
      "---------------\n",
      "id :b116a24b-418f-438f-b714-e749c8e70d3a\n",
      "page content: Shakib Al Hasan is a Bangladeshi cricketer, widely regarded as one of the best all-rounders in the world. He has been a key player for Bangladesh in all formats of the game.\n",
      "---------------\n",
      "id :dcf54611-11e7-4039-aab6-830dde505380\n",
      "page content: Virat Kohli is an Indian cricketer and former captain of the Indian national team. He is known for his aggressive batting style and has numerous records in international cricket.\n",
      "---------------\n",
      "id :0feaab11-8426-43d0-bb18-0df6f6fed029\n",
      "page content: Rohit Sharma is an Indian cricketer who plays as a right-handed opening batsman. He is the captain of the Indian national team in ODI and T20I formats.\n",
      "---------------\n",
      "id :6a36c5e2-0de7-42f6-97b9-fafa1e59f66a\n",
      "page content: Tamim Iqbal is a Bangladeshi cricketer who plays as a left-handed opening batsman. he is a batter. He is the captain of the Bangladesh national team in Test and T20I formats.\n",
      "---------------\n",
      "id :e82dceaf-339e-421f-9779-4eb87f4133bf\n",
      "page content: Shakib Al Hasan is a Bangladeshi cricketer, widely regarded as one of the best all-rounders in the world. he is a bowler also a batter. He has been a key player for Bangladesh in all formats of the game.\n",
      "---------------\n",
      "id :be5c4863-5eba-4e0c-8f36-b1b83d47f198\n",
      "page content: Virat Kohli is an Indian cricketer and former captain of the Indian national team. He is known for his aggressive batting style and has numerous records in international cricket.\n",
      "---------------\n",
      "id :6183bc2b-4b58-4e1b-86b9-fc93f7b420e1\n",
      "page content: Rohit Sharma is an Indian cricketer who plays as a right-handed opening batsman. He is the captain of the Indian national team in ODI and T20I formats.\n",
      "---------------\n"
     ]
    }
   ],
   "source": [
    "for id , doc in vector_store.docstore._dict.items():\n",
    "    print(f\"id :{id}\")\n",
    "    print(f\"page content: {doc.page_content}\")\n",
    "    print(\"---------------\")"
   ]
  },
  {
   "cell_type": "code",
   "execution_count": null,
   "id": "9a476bc7",
   "metadata": {},
   "outputs": [],
   "source": [
    "docstore = vector_store.docstore._dict"
   ]
  },
  {
   "cell_type": "code",
   "execution_count": null,
   "id": "213e6965",
   "metadata": {},
   "outputs": [
    {
     "data": {
      "text/plain": [
       "{'6290dc5f-2579-4500-8dbd-b52f2e448be4': Document(id='6290dc5f-2579-4500-8dbd-b52f2e448be4', metadata={'team': 'Bangladesh', 'format': 'Test'}, page_content='Tamim Iqbal is a Bangladeshi cricketer who plays as a left-handed opening batsman. He is the captain of the Bangladesh national team in Test and T20I formats.'),\n",
       " 'b116a24b-418f-438f-b714-e749c8e70d3a': Document(id='b116a24b-418f-438f-b714-e749c8e70d3a', metadata={'team': 'Bangladesh', 'format': 'ODI'}, page_content='Shakib Al Hasan is a Bangladeshi cricketer, widely regarded as one of the best all-rounders in the world. He has been a key player for Bangladesh in all formats of the game.'),\n",
       " 'dcf54611-11e7-4039-aab6-830dde505380': Document(id='dcf54611-11e7-4039-aab6-830dde505380', metadata={'team': 'India', 'format': 'T20I'}, page_content='Virat Kohli is an Indian cricketer and former captain of the Indian national team. He is known for his aggressive batting style and has numerous records in international cricket.'),\n",
       " '0feaab11-8426-43d0-bb18-0df6f6fed029': Document(id='0feaab11-8426-43d0-bb18-0df6f6fed029', metadata={'team': 'India', 'format': 'ODI'}, page_content='Rohit Sharma is an Indian cricketer who plays as a right-handed opening batsman. He is the captain of the Indian national team in ODI and T20I formats.'),\n",
       " '6a36c5e2-0de7-42f6-97b9-fafa1e59f66a': Document(id='6a36c5e2-0de7-42f6-97b9-fafa1e59f66a', metadata={'team': 'Bangladesh', 'format': 'Test'}, page_content='Tamim Iqbal is a Bangladeshi cricketer who plays as a left-handed opening batsman. he is a batter. He is the captain of the Bangladesh national team in Test and T20I formats.'),\n",
       " 'e82dceaf-339e-421f-9779-4eb87f4133bf': Document(id='e82dceaf-339e-421f-9779-4eb87f4133bf', metadata={'team': 'Bangladesh', 'format': 'ODI'}, page_content='Shakib Al Hasan is a Bangladeshi cricketer, widely regarded as one of the best all-rounders in the world. he is a bowler also a batter. He has been a key player for Bangladesh in all formats of the game.'),\n",
       " 'be5c4863-5eba-4e0c-8f36-b1b83d47f198': Document(id='be5c4863-5eba-4e0c-8f36-b1b83d47f198', metadata={'team': 'India', 'format': 'T20I'}, page_content='Virat Kohli is an Indian cricketer and former captain of the Indian national team. He is known for his aggressive batting style and has numerous records in international cricket.'),\n",
       " '6183bc2b-4b58-4e1b-86b9-fc93f7b420e1': Document(id='6183bc2b-4b58-4e1b-86b9-fc93f7b420e1', metadata={'team': 'India', 'format': 'ODI'}, page_content='Rohit Sharma is an Indian cricketer who plays as a right-handed opening batsman. He is the captain of the Indian national team in ODI and T20I formats.')}"
      ]
     },
     "execution_count": 48,
     "metadata": {},
     "output_type": "execute_result"
    }
   ],
   "source": [
    "docstore"
   ]
  },
  {
   "cell_type": "code",
   "execution_count": null,
   "id": "7eb0cf1a",
   "metadata": {},
   "outputs": [
    {
     "data": {
      "text/plain": [
       "{'e82dceaf-339e-421f-9779-4eb87f4133bf': Document(id='e82dceaf-339e-421f-9779-4eb87f4133bf', metadata={'team': 'Bangladesh', 'format': 'ODI'}, page_content='Shakib Al Hasan is a Bangladeshi cricketer, widely regarded as one of the best all-rounders in the world. he is a bowler also a batter. He has been a key player for Bangladesh in all formats of the game.'),\n",
       " 'be5c4863-5eba-4e0c-8f36-b1b83d47f198': Document(id='be5c4863-5eba-4e0c-8f36-b1b83d47f198', metadata={'team': 'India', 'format': 'T20I'}, page_content='Virat Kohli is an Indian cricketer and former captain of the Indian national team. He is known for his aggressive batting style and has numerous records in international cricket.'),\n",
       " '6183bc2b-4b58-4e1b-86b9-fc93f7b420e1': Document(id='6183bc2b-4b58-4e1b-86b9-fc93f7b420e1', metadata={'team': 'India', 'format': 'ODI'}, page_content='Rohit Sharma is an Indian cricketer who plays as a right-handed opening batsman. He is the captain of the Indian national team in ODI and T20I formats.')}"
      ]
     },
     "execution_count": 50,
     "metadata": {},
     "output_type": "execute_result"
    }
   ],
   "source": [
    "# Collect the first 4 IDs to delete\n",
    "ids_to_delete = []\n",
    "count = 0\n",
    "for id, doc in vector_store.docstore._dict.items():\n",
    "    if count < 4:\n",
    "        ids_to_delete.append(id)\n",
    "        count += 1\n",
    "\n",
    "# Delete them outside the iteration\n",
    "for id in ids_to_delete:\n",
    "    vector_store.delete(ids=[id])\n",
    "\n",
    "vector_store.docstore._dict"
   ]
  }
 ],
 "metadata": {
  "kernelspec": {
   "display_name": "LangChain",
   "language": "python",
   "name": "python3"
  },
  "language_info": {
   "codemirror_mode": {
    "name": "ipython",
    "version": 3
   },
   "file_extension": ".py",
   "mimetype": "text/x-python",
   "name": "python",
   "nbconvert_exporter": "python",
   "pygments_lexer": "ipython3",
   "version": "3.11.1"
  }
 },
 "nbformat": 4,
 "nbformat_minor": 5
}
